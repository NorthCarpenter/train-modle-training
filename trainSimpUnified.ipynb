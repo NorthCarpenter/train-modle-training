{
 "cells": [
  {
   "cell_type": "code",
   "execution_count": 1,
   "metadata": {},
   "outputs": [],
   "source": [
    "# Import Block\n",
    "\n",
    "import pandas as pd\n",
    "import os\n",
    "import tqdm"
   ]
  },
  {
   "cell_type": "code",
   "execution_count": 2,
   "metadata": {},
   "outputs": [
    {
     "name": "stderr",
     "output_type": "stream",
     "text": [
      "100%|██████████| 6310/6310 [00:24<00:00, 253.27it/s]"
     ]
    },
    {
     "name": "stdout",
     "output_type": "stream",
     "text": [
      "6310\n"
     ]
    },
    {
     "name": "stderr",
     "output_type": "stream",
     "text": [
      "\n"
     ]
    }
   ],
   "source": [
    "# ==== Importing CSVs ====\n",
    "\n",
    "# Getting a list of already downloaded files\n",
    "\n",
    "collectedTrainData = os.listdir(path='/Users/NorthCarpenter/Documents/Sort/Employment/Making Employment/Train Code/trainDataStation')\n",
    "collectedTrainData.remove(\"noDataStatYr.csv\")\n",
    "collectedTrainData.remove(\".DS_Store\")\n",
    "\n",
    "# Function Creating a list of Paths for each File to be Read in\n",
    "\n",
    "def split_file_paths(path_part, path_ends):\n",
    "    full_paths = []\n",
    "    for path_end in path_ends:\n",
    "        full_paths.append(os.path.abspath(path_part + path_end))\n",
    "    return full_paths\n",
    "\n",
    "# Reading in all CSVs\n",
    "\n",
    "path_train_folder = '/Users/NorthCarpenter/Documents/Sort/Employment/Making Employment/Train Code/trainDataStation/'\n",
    "\n",
    "train_frames = []\n",
    "\n",
    "for file in tqdm.tqdm(split_file_paths(path_train_folder, collectedTrainData)):\n",
    "    train_frame = pd.read_csv(file)\n",
    "    train_frames.append(train_frame)\n",
    "\n",
    "#Checking Length\n",
    "\n",
    "print(len(train_frames))\n",
    "\n"
   ]
  },
  {
   "cell_type": "code",
   "execution_count": 3,
   "metadata": {},
   "outputs": [
    {
     "name": "stdout",
     "output_type": "stream",
     "text": [
      "9036    463\n",
      "9037    461\n",
      "9038    147\n",
      "9039    450\n",
      "Name: Train #, dtype: object\n",
      "1456    58\n",
      "1457    59\n",
      "1458    58\n",
      "1459    59\n",
      "Name: Train #, dtype: object\n",
      "29307     11\n",
      "29308    720\n",
      "29309    712\n",
      "29310    723\n",
      "Name: Train #, dtype: object\n",
      "6220    716\n",
      "6221    714\n",
      "6222    711\n",
      "6223    712\n",
      "Name: Train #, dtype: object\n",
      "9036    WFD\n",
      "9037    WFD\n",
      "9038    WFD\n",
      "9039    WFD\n",
      "Name: Station Code, dtype: object\n",
      "1456    HAZ\n",
      "1457    HAZ\n",
      "1458    HAZ\n",
      "1459    HAZ\n",
      "Name: Station Code, dtype: object\n",
      "29307    EMY\n",
      "29308    EMY\n",
      "29309    EMY\n",
      "29310    EMY\n",
      "Name: Station Code, dtype: object\n",
      "6220    ACA\n",
      "6221    ACA\n",
      "6222    ACA\n",
      "6223    ACA\n",
      "Name: Station Code, dtype: object\n"
     ]
    },
    {
     "name": "stderr",
     "output_type": "stream",
     "text": [
      "/var/folders/53/6gcw2d7j5ss91wtplr59_y4r0000gn/T/ipykernel_28215/3860606619.py:13: SettingWithCopyWarning: \n",
      "A value is trying to be set on a copy of a slice from a DataFrame.\n",
      "Try using .loc[row_indexer,col_indexer] = value instead\n",
      "\n",
      "See the caveats in the documentation: https://pandas.pydata.org/pandas-docs/stable/user_guide/indexing.html#returning-a-view-versus-a-copy\n",
      "  train_frames[i][\"Station Code\"] = collectedTrainData[i][0:3]\n"
     ]
    }
   ],
   "source": [
    "# ==== Cleaing Imported CSVs ====\n",
    "\n",
    "# Dropping all ave and mean end rows\n",
    "for i in range(len(train_frames)):\n",
    "    train_frames[i] = train_frames[i][~train_frames[i]['Train #'].str.contains('Dp delay:')]\n",
    "    # Checkin it worked on 15 samples\n",
    "    if i%2000 == 0:\n",
    "        print(train_frames[i]['Train #'].tail(4))\n",
    "\n",
    "# Adding a station collumn with the file name list\n",
    "\n",
    "for i in range(len(train_frames)):\n",
    "    train_frames[i][\"Station Code\"] = collectedTrainData[i][0:3]\n",
    "    if i%2000 == 0:\n",
    "        print(train_frames[i]['Station Code'].tail(4))\n",
    "\n"
   ]
  },
  {
   "cell_type": "code",
   "execution_count": 4,
   "metadata": {},
   "outputs": [
    {
     "name": "stdout",
     "output_type": "stream",
     "text": [
      "28947987\n"
     ]
    }
   ],
   "source": [
    "# ==== Unifying CSVs and Saving ====\n",
    "\n",
    "# Save Path\n",
    "pathTrainFolder = os.path.abspath('/Users/NorthCarpenter/Documents/Sort/Employment/Making Employment/Train Code/AMTRAC_2010-22.csv')\n",
    "\n",
    "# == Unify all CSVs ==\n",
    "\n",
    "# Setting up the big DF\n",
    "train_frames_all = pd.concat(train_frames)\n",
    "\n",
    "# Checking Appending\n",
    "print(len(train_frames_all['Train #']))\n",
    "train_frames_all.head(6)\n",
    "\n",
    "# Saving to CSV\n",
    "train_frames_all.to_csv(pathTrainFolder)"
   ]
  }
 ],
 "metadata": {
  "kernelspec": {
   "display_name": "base",
   "language": "python",
   "name": "python3"
  },
  "language_info": {
   "codemirror_mode": {
    "name": "ipython",
    "version": 3
   },
   "file_extension": ".py",
   "mimetype": "text/x-python",
   "name": "python",
   "nbconvert_exporter": "python",
   "pygments_lexer": "ipython3",
   "version": "3.11.5"
  }
 },
 "nbformat": 4,
 "nbformat_minor": 2
}
