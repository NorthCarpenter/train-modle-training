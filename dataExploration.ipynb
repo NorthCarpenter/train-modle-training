{
 "cells": [
  {
   "cell_type": "code",
   "execution_count": null,
   "id": "1ec39ee7",
   "metadata": {},
   "outputs": [],
   "source": []
  },
  {
   "cell_type": "code",
   "execution_count": null,
   "id": "8fdd70c8",
   "metadata": {},
   "outputs": [
    {
     "ename": "",
     "evalue": "",
     "output_type": "error",
     "traceback": [
      "\u001b[1;31mRunning cells with 'base (Python 3.13.5)' requires the ipykernel package.\n",
      "\u001b[1;31m<a href='command:jupyter.createPythonEnvAndSelectController'>Create a Python Environment</a> with the required packages."
     ]
    }
   ],
   "source": [
    "# Packages\n",
    "\n",
    "import pandas as pd\n",
    "import datetime\n",
    "import os\n",
    "import tqdm"
   ]
  },
  {
   "cell_type": "code",
   "execution_count": null,
   "id": "1a18caf9",
   "metadata": {},
   "outputs": [],
   "source": [
    "# Importing the Merged Train Data Sheet\n",
    "\n",
    "train_CSV_path = '/Users/NorthCarpenter/Documents/Sort/Employment/Making Employment/Train Code/AMTRAC_2010-22.csv'\n",
    "\n",
    "train_data = pd.read_csv(train_CSV_path)"
   ]
  }
 ],
 "metadata": {
  "kernelspec": {
   "display_name": "base",
   "language": "python",
   "name": "python3"
  },
  "language_info": {
   "name": "python",
   "version": "3.13.5"
  }
 },
 "nbformat": 4,
 "nbformat_minor": 5
}
